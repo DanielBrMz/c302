{
 "cells": [
  {
   "cell_type": "code",
   "execution_count": 1,
   "id": "481d3c70-313a-4979-8475-d4a0089a8a0b",
   "metadata": {
    "tags": []
   },
   "outputs": [
    {
     "name": "stdout",
     "output_type": "stream",
     "text": [
      "c302      >>>  Opened Excel file..: /opt/homebrew/anaconda3/envs/py39n/lib/python3.9/site-packages/c302/data/CElegansNeuronTables.xls\n",
      "c302      >>>  Opened Excel file: /opt/homebrew/anaconda3/envs/py39n/lib/python3.9/site-packages/c302/data/CElegansNeuronTables.xls\n",
      "c302      >>>  Opened file: /opt/homebrew/anaconda3/envs/py39n/lib/python3.9/site-packages/c302/data/herm_full_edgelist.csv\n",
      "c302      >>>  Opened file: /opt/homebrew/anaconda3/envs/py39n/lib/python3.9/site-packages/c302/data/herm_full_edgelist.csv\n",
      "c302      >>>  Opened file: /opt/homebrew/anaconda3/envs/py39n/lib/python3.9/site-packages/c302/data/herm_full_edgelist_MODIFIED.csv\n",
      "c302      >>>  Opened file: /opt/homebrew/anaconda3/envs/py39n/lib/python3.9/site-packages/c302/data/herm_full_edgelist_MODIFIED.csv\n",
      "c302      >>>  Initialising OpenWormReader\n"
     ]
    },
    {
     "name": "stderr",
     "output_type": "stream",
     "text": [
      "WARNING:pow_zodb.FileStorageZODB:Committed pending transaction on close with <transaction._manager.ThreadTransactionManager object at 0x107a49ac0>\n",
      "WARNING:pow_zodb.FileStorageZODB:Committed pending transaction on close with <transaction._manager.ThreadTransactionManager object at 0x107a49ac0>\n",
      "WARNING:pow_zodb.FileStorageZODB:Committed pending transaction on close with <transaction._manager.ThreadTransactionManager object at 0x107a49ac0>\n"
     ]
    },
    {
     "name": "stdout",
     "output_type": "stream",
     "text": [
      "c302      >>>  Total cells 302 (300 with connections)\n",
      "c302      >>>  Total connections found 5805 \n",
      "c302      >>>  Total cells 397 (254 with connections)\n",
      "c302      >>>  Total connections found 926 \n",
      "*This version of the NeuroAtlas does not include the CAN neurons. This will be fixed soon.\n",
      "*In loading the anatomical connectome, the following conventions are used to allow for its comparison with the other datasets: AWCL->AWCOFF and AWCR->AWCON\n"
     ]
    },
    {
     "name": "stderr",
     "output_type": "stream",
     "text": [
      "/opt/homebrew/anaconda3/envs/py39n/lib/python3.9/site-packages/wormneuroatlas/WormBase.py:52: UserWarning: Wormbase.org updated its database to a new version (WS288). The version of Worm Neuro Atlas that you are using has been built for the wormbase database version WS287. To ensure reproducible results, upgrade Worm Neuro Atlas with `python -m pip install --upgrade wormneuroatlas` If this warning persists after upgrading, let the developers know by opening an issue here: https://github.com/francescorandi/wormneuroatlas/issues. NOTE: You can still use Worm Neuro Atlas in the meantime. The metadata accessible via  wormneuroatlas.WormBase.get_metadata() and wormneuroatlas.NeuroAtlas.get_metadata() contain the version of wormbase that you are currently using, so make sure you save the metadata alongside your results. \n",
      "  warnings.warn(w)\n"
     ]
    },
    {
     "name": "stdout",
     "output_type": "stream",
     "text": [
      "c302      >>>  Initialising WormNeuroAtlasReader\n"
     ]
    }
   ],
   "source": [
    "\n",
    "from c302.NeuroMLUtilities import analyse_connections\n",
    "\n",
    "all_data = {}\n",
    "all_data[\"Values\"] =[\"Num Cells\", \"Num muscles\", \"Num conns\", \"#N->Musc\"]\n",
    "\n",
    "from c302.SpreadsheetDataReader import read_data, read_muscle_data\n",
    "\n",
    "cells_s, neuron_conns_s = read_data(include_nonconnected_cells=True)\n",
    "neurons2muscles_s, muscles_s, muscle_conns_s = read_muscle_data()\n",
    "\n",
    "all_data[\"SP1\"] =[len(cells_s),len(muscles_s), len(neuron_conns_s), len(neurons2muscles_s)]\n",
    "\n",
    "\n",
    "from c302.UpdatedSpreadsheetDataReader import read_data, read_muscle_data\n",
    "cells_u1, neuron_conns_u1 = read_data(include_nonconnected_cells=True)\n",
    "neurons2muscles_u1, muscles_u1, muscle_conns_u1 = read_muscle_data()\n",
    "\n",
    "all_data[\"U1\"] =[len(cells_u1),len(muscles_u1), len(neuron_conns_u1), len(neurons2muscles_u1)]\n",
    "\n",
    "from c302.UpdatedSpreadsheetDataReader2 import read_data, read_muscle_data\n",
    "cells_u2, neuron_conns_u2 = read_data(include_nonconnected_cells=True)\n",
    "neurons2muscles_u2, muscles_u2, muscle_conns_u2 = read_muscle_data()\n",
    "\n",
    "all_data[\"U2\"] =[len(cells_u2),len(muscles_u2), len(neuron_conns_u2), len(neurons2muscles_u2)]\n",
    "\n",
    "from c302.OpenWormReader import read_data, read_muscle_data\n",
    "cells_o, neuron_conns_o = read_data(include_nonconnected_cells=True)\n",
    "neurons2muscles_o, muscles_o, muscle_conns_o = read_muscle_data()\n",
    "\n",
    "all_data[\"OW\"] =[len(cells_o),len(muscles_o), len(neuron_conns_o), len(neurons2muscles_o)]\n",
    "\n",
    "from c302.WormNeuroAtlasReader import read_data, read_muscle_data\n",
    "cells_w, neuron_conns_w = read_data(include_nonconnected_cells=True)\n",
    "neurons2muscles_w, muscles_w, muscle_conns_w = read_muscle_data()\n",
    "\n",
    "all_data[\"NWA\"] =[len(cells_w),len(muscles_w), len(neuron_conns_w), len(neurons2muscles_w)]\n",
    "\n"
   ]
  },
  {
   "cell_type": "code",
   "execution_count": 2,
   "id": "2308051a-0a24-44db-a481-fc0d0f2af4fb",
   "metadata": {
    "tags": []
   },
   "outputs": [
    {
     "data": {
      "text/html": [
       "<div>\n",
       "<style scoped>\n",
       "    .dataframe tbody tr th:only-of-type {\n",
       "        vertical-align: middle;\n",
       "    }\n",
       "\n",
       "    .dataframe tbody tr th {\n",
       "        vertical-align: top;\n",
       "    }\n",
       "\n",
       "    .dataframe thead th {\n",
       "        text-align: right;\n",
       "    }\n",
       "</style>\n",
       "<table border=\"1\" class=\"dataframe\">\n",
       "  <thead>\n",
       "    <tr style=\"text-align: right;\">\n",
       "      <th></th>\n",
       "      <th>SP1</th>\n",
       "      <th>U1</th>\n",
       "      <th>U2</th>\n",
       "      <th>OW</th>\n",
       "      <th>NWA</th>\n",
       "    </tr>\n",
       "    <tr>\n",
       "      <th>Values</th>\n",
       "      <th></th>\n",
       "      <th></th>\n",
       "      <th></th>\n",
       "      <th></th>\n",
       "      <th></th>\n",
       "    </tr>\n",
       "  </thead>\n",
       "  <tbody>\n",
       "    <tr>\n",
       "      <th>Num Cells</th>\n",
       "      <td>302</td>\n",
       "      <td>302</td>\n",
       "      <td>302</td>\n",
       "      <td>302</td>\n",
       "      <td>300</td>\n",
       "    </tr>\n",
       "    <tr>\n",
       "      <th>Num muscles</th>\n",
       "      <td>97</td>\n",
       "      <td>95</td>\n",
       "      <td>95</td>\n",
       "      <td>95</td>\n",
       "      <td>0</td>\n",
       "    </tr>\n",
       "    <tr>\n",
       "      <th>Num conns</th>\n",
       "      <td>3363</td>\n",
       "      <td>5806</td>\n",
       "      <td>5821</td>\n",
       "      <td>5805</td>\n",
       "      <td>1650</td>\n",
       "    </tr>\n",
       "    <tr>\n",
       "      <th>#N-&gt;Musc</th>\n",
       "      <td>127</td>\n",
       "      <td>254</td>\n",
       "      <td>254</td>\n",
       "      <td>159</td>\n",
       "      <td>0</td>\n",
       "    </tr>\n",
       "  </tbody>\n",
       "</table>\n",
       "</div>"
      ],
      "text/plain": [
       "              SP1    U1    U2    OW   NWA\n",
       "Values                                   \n",
       "Num Cells     302   302   302   302   300\n",
       "Num muscles    97    95    95    95     0\n",
       "Num conns    3363  5806  5821  5805  1650\n",
       "#N->Musc      127   254   254   159     0"
      ]
     },
     "execution_count": 2,
     "metadata": {},
     "output_type": "execute_result"
    }
   ],
   "source": [
    "import pandas as pd\n",
    "import numpy as np\n",
    "\n",
    "df_all = pd.DataFrame(all_data)\n",
    "df_all.set_index(\"Values\")\n"
   ]
  },
  {
   "cell_type": "code",
   "execution_count": null,
   "id": "8a6f79cf-8fb4-4c04-b319-03456f64d298",
   "metadata": {
    "tags": []
   },
   "outputs": [],
   "source": []
  },
  {
   "cell_type": "code",
   "execution_count": null,
   "id": "74790762-7d9e-49dc-8d5c-ffcab50bf9ec",
   "metadata": {},
   "outputs": [],
   "source": []
  }
 ],
 "metadata": {
  "kernelspec": {
   "display_name": "Python 3 (ipykernel)",
   "language": "python",
   "name": "python3"
  },
  "language_info": {
   "codemirror_mode": {
    "name": "ipython",
    "version": 3
   },
   "file_extension": ".py",
   "mimetype": "text/x-python",
   "name": "python",
   "nbconvert_exporter": "python",
   "pygments_lexer": "ipython3",
   "version": "3.9.16"
  }
 },
 "nbformat": 4,
 "nbformat_minor": 5
}
