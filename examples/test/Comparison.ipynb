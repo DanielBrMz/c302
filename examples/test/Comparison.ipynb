{
 "cells": [
  {
   "cell_type": "code",
   "execution_count": 16,
   "id": "481d3c70-313a-4979-8475-d4a0089a8a0b",
   "metadata": {
    "tags": []
   },
   "outputs": [
    {
     "name": "stdout",
     "output_type": "stream",
     "text": [
      "\n",
      "****** Importing dataset SpreadsheetData using c302.SpreadsheetDataReader ******\n",
      "c302      >>>  Opened Excel file..: /opt/homebrew/anaconda3/envs/py39n/lib/python3.9/site-packages/c302/data/CElegansNeuronTables.xls\n",
      "c302      >>>  Opened Excel file: /opt/homebrew/anaconda3/envs/py39n/lib/python3.9/site-packages/c302/data/CElegansNeuronTables.xls\n",
      "\n",
      "****** Importing dataset UpdSpreadsheetData using c302.UpdatedSpreadsheetDataReader ******\n",
      "c302      >>>  Opened file: /opt/homebrew/anaconda3/envs/py39n/lib/python3.9/site-packages/c302/data/herm_full_edgelist.csv\n",
      "c302      >>>  Opened file: /opt/homebrew/anaconda3/envs/py39n/lib/python3.9/site-packages/c302/data/herm_full_edgelist.csv\n",
      "\n",
      "****** Importing dataset UpdSpreadsheetData2 using c302.UpdatedSpreadsheetDataReader2 ******\n",
      "c302      >>>  Opened file: /opt/homebrew/anaconda3/envs/py39n/lib/python3.9/site-packages/c302/data/herm_full_edgelist_MODIFIED.csv\n",
      "c302      >>>  Opened file: /opt/homebrew/anaconda3/envs/py39n/lib/python3.9/site-packages/c302/data/herm_full_edgelist_MODIFIED.csv\n",
      "\n",
      "****** Importing dataset OpenWorm using c302.OpenWormReader ******\n",
      "c302      >>>  Initialising OpenWormReader\n",
      "c302      >>>  Total cells 302 (300 with connections)\n",
      "c302      >>>  Total connections found 5805 \n",
      "c302      >>>  Total cells 397 (254 with connections)\n",
      "c302      >>>  Total connections found 926 \n",
      "\n",
      "****** Importing dataset WormNeuroAtlas using c302.WormNeuroAtlasReader ******\n",
      "c302      >>>  Initialising WormNeuroAtlasReader\n"
     ]
    }
   ],
   "source": [
    "\n",
    "import c302\n",
    "from c302.NeuroMLUtilities import analyse_connections\n",
    "\n",
    "all_data = {}\n",
    "all_data[\"Values\"] =[\"Num Cells\", \"Num muscles\", \"Num conns\", \"#N->Musc\"]\n",
    "\n",
    "readers = {\"SpreadsheetData\": \"c302.SpreadsheetDataReader\", \n",
    "           \"UpdSpreadsheetData\": \"c302.UpdatedSpreadsheetDataReader\",\n",
    "           \"UpdSpreadsheetData2\": \"c302.UpdatedSpreadsheetDataReader2\",\n",
    "           \"OpenWorm\": \"c302.OpenWormReader\",\n",
    "           \"WormNeuroAtlas\": \"c302.WormNeuroAtlasReader\"}\n",
    "\n",
    "for name, reader in readers.items():\n",
    "\n",
    "    print(\"\\n****** Importing dataset %s using %s ******\"% (name, reader))\n",
    "    exec(\"from %s import read_data, read_muscle_data\"%reader)\n",
    "\n",
    "    cells, neuron_conns = read_data(include_nonconnected_cells=True)\n",
    "    neurons2muscles, muscles, muscle_conns = read_muscle_data()\n",
    "\n",
    "    all_data[name] =[len(cells),len(muscles), len(neuron_conns), len(neurons2muscles)]\n",
    "\n"
   ]
  },
  {
   "cell_type": "code",
   "execution_count": 17,
   "id": "2308051a-0a24-44db-a481-fc0d0f2af4fb",
   "metadata": {
    "tags": []
   },
   "outputs": [
    {
     "data": {
      "text/html": [
       "<div>\n",
       "<style scoped>\n",
       "    .dataframe tbody tr th:only-of-type {\n",
       "        vertical-align: middle;\n",
       "    }\n",
       "\n",
       "    .dataframe tbody tr th {\n",
       "        vertical-align: top;\n",
       "    }\n",
       "\n",
       "    .dataframe thead th {\n",
       "        text-align: right;\n",
       "    }\n",
       "</style>\n",
       "<table border=\"1\" class=\"dataframe\">\n",
       "  <thead>\n",
       "    <tr style=\"text-align: right;\">\n",
       "      <th></th>\n",
       "      <th>SpreadsheetData</th>\n",
       "      <th>UpdSpreadsheetData</th>\n",
       "      <th>UpdSpreadsheetData2</th>\n",
       "      <th>OpenWorm</th>\n",
       "      <th>WormNeuroAtlas</th>\n",
       "    </tr>\n",
       "    <tr>\n",
       "      <th>Values</th>\n",
       "      <th></th>\n",
       "      <th></th>\n",
       "      <th></th>\n",
       "      <th></th>\n",
       "      <th></th>\n",
       "    </tr>\n",
       "  </thead>\n",
       "  <tbody>\n",
       "    <tr>\n",
       "      <th>Num Cells</th>\n",
       "      <td>302</td>\n",
       "      <td>302</td>\n",
       "      <td>302</td>\n",
       "      <td>302</td>\n",
       "      <td>300</td>\n",
       "    </tr>\n",
       "    <tr>\n",
       "      <th>Num muscles</th>\n",
       "      <td>97</td>\n",
       "      <td>95</td>\n",
       "      <td>95</td>\n",
       "      <td>95</td>\n",
       "      <td>0</td>\n",
       "    </tr>\n",
       "    <tr>\n",
       "      <th>Num conns</th>\n",
       "      <td>3363</td>\n",
       "      <td>5806</td>\n",
       "      <td>5821</td>\n",
       "      <td>5805</td>\n",
       "      <td>1650</td>\n",
       "    </tr>\n",
       "    <tr>\n",
       "      <th>#N-&gt;Musc</th>\n",
       "      <td>127</td>\n",
       "      <td>254</td>\n",
       "      <td>254</td>\n",
       "      <td>159</td>\n",
       "      <td>0</td>\n",
       "    </tr>\n",
       "  </tbody>\n",
       "</table>\n",
       "</div>"
      ],
      "text/plain": [
       "             SpreadsheetData  UpdSpreadsheetData  UpdSpreadsheetData2  \\\n",
       "Values                                                                  \n",
       "Num Cells                302                 302                  302   \n",
       "Num muscles               97                  95                   95   \n",
       "Num conns               3363                5806                 5821   \n",
       "#N->Musc                 127                 254                  254   \n",
       "\n",
       "             OpenWorm  WormNeuroAtlas  \n",
       "Values                                 \n",
       "Num Cells         302             300  \n",
       "Num muscles        95               0  \n",
       "Num conns        5805            1650  \n",
       "#N->Musc          159               0  "
      ]
     },
     "execution_count": 17,
     "metadata": {},
     "output_type": "execute_result"
    }
   ],
   "source": [
    "import pandas as pd\n",
    "import numpy as np\n",
    "\n",
    "df_all = pd.DataFrame(all_data)\n",
    "df_all.set_index(\"Values\")\n"
   ]
  },
  {
   "cell_type": "code",
   "execution_count": null,
   "id": "8a6f79cf-8fb4-4c04-b319-03456f64d298",
   "metadata": {
    "tags": []
   },
   "outputs": [],
   "source": []
  },
  {
   "cell_type": "code",
   "execution_count": null,
   "id": "74790762-7d9e-49dc-8d5c-ffcab50bf9ec",
   "metadata": {},
   "outputs": [],
   "source": []
  }
 ],
 "metadata": {
  "kernelspec": {
   "display_name": "Python 3 (ipykernel)",
   "language": "python",
   "name": "python3"
  },
  "language_info": {
   "codemirror_mode": {
    "name": "ipython",
    "version": 3
   },
   "file_extension": ".py",
   "mimetype": "text/x-python",
   "name": "python",
   "nbconvert_exporter": "python",
   "pygments_lexer": "ipython3",
   "version": "3.9.16"
  }
 },
 "nbformat": 4,
 "nbformat_minor": 5
}
